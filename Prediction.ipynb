{
 "cells": [
  {
   "cell_type": "code",
   "execution_count": 1,
   "metadata": {},
   "outputs": [],
   "source": [
    "import pandas as pd\n",
    "import numpy as np\n",
    "from sklearn.linear_model import LinearRegression"
   ]
  },
  {
   "cell_type": "code",
   "execution_count": 2,
   "metadata": {},
   "outputs": [
    {
     "data": {
      "text/html": [
       "<div>\n",
       "<style scoped>\n",
       "    .dataframe tbody tr th:only-of-type {\n",
       "        vertical-align: middle;\n",
       "    }\n",
       "\n",
       "    .dataframe tbody tr th {\n",
       "        vertical-align: top;\n",
       "    }\n",
       "\n",
       "    .dataframe thead th {\n",
       "        text-align: right;\n",
       "    }\n",
       "</style>\n",
       "<table border=\"1\" class=\"dataframe\">\n",
       "  <thead>\n",
       "    <tr style=\"text-align: right;\">\n",
       "      <th></th>\n",
       "      <th>What is your age?</th>\n",
       "      <th>How many Text Messages do you receive in a day?</th>\n",
       "      <th>How many social media and messaging applications do you use?</th>\n",
       "      <th>PHQ</th>\n",
       "    </tr>\n",
       "  </thead>\n",
       "  <tbody>\n",
       "    <tr>\n",
       "      <th>0</th>\n",
       "      <td>21</td>\n",
       "      <td>30</td>\n",
       "      <td>3</td>\n",
       "      <td>4</td>\n",
       "    </tr>\n",
       "    <tr>\n",
       "      <th>1</th>\n",
       "      <td>20</td>\n",
       "      <td>10</td>\n",
       "      <td>5</td>\n",
       "      <td>8</td>\n",
       "    </tr>\n",
       "    <tr>\n",
       "      <th>2</th>\n",
       "      <td>49</td>\n",
       "      <td>30</td>\n",
       "      <td>4</td>\n",
       "      <td>1</td>\n",
       "    </tr>\n",
       "    <tr>\n",
       "      <th>3</th>\n",
       "      <td>20</td>\n",
       "      <td>0</td>\n",
       "      <td>0</td>\n",
       "      <td>14</td>\n",
       "    </tr>\n",
       "    <tr>\n",
       "      <th>4</th>\n",
       "      <td>58</td>\n",
       "      <td>100</td>\n",
       "      <td>1</td>\n",
       "      <td>1</td>\n",
       "    </tr>\n",
       "  </tbody>\n",
       "</table>\n",
       "</div>"
      ],
      "text/plain": [
       "   What is your age?  How many Text Messages do you receive in a day?  \\\n",
       "0                 21                                               30   \n",
       "1                 20                                               10   \n",
       "2                 49                                               30   \n",
       "3                 20                                                0   \n",
       "4                 58                                              100   \n",
       "\n",
       "   How many social media and messaging applications do you use?  PHQ  \n",
       "0                                                  3               4  \n",
       "1                                                  5               8  \n",
       "2                                                  4               1  \n",
       "3                                                  0              14  \n",
       "4                                                  1               1  "
      ]
     },
     "execution_count": 2,
     "metadata": {},
     "output_type": "execute_result"
    }
   ],
   "source": [
    "df = pd.read_csv('E:\\Desktop\\Files\\PHQ.csv')\n",
    "df.head()"
   ]
  },
  {
   "cell_type": "code",
   "execution_count": 3,
   "metadata": {},
   "outputs": [
    {
     "name": "stdout",
     "output_type": "stream",
     "text": [
      "0      4\n",
      "1      8\n",
      "2      1\n",
      "3     14\n",
      "4      1\n",
      "5      7\n",
      "6     12\n",
      "7      8\n",
      "8     13\n",
      "9      3\n",
      "10     7\n",
      "11     7\n",
      "12     7\n",
      "13     4\n",
      "14     2\n",
      "15     4\n",
      "16     9\n",
      "17    12\n",
      "18    11\n",
      "19     5\n",
      "20     6\n",
      "21     8\n",
      "22     8\n",
      "23     8\n",
      "24     7\n",
      "25     0\n",
      "26     1\n",
      "27     5\n",
      "28     6\n",
      "29     7\n",
      "30     0\n",
      "31     9\n",
      "32    11\n",
      "33    13\n",
      "34     2\n",
      "35    14\n",
      "36    27\n",
      "37     6\n",
      "38     3\n",
      "39     5\n",
      "40     9\n",
      "41     5\n",
      "42     6\n",
      "43     4\n",
      "44     3\n",
      "45     7\n",
      "46     4\n",
      "47     2\n",
      "48     5\n",
      "49     8\n",
      "Name: PHQ, dtype: int64\n"
     ]
    }
   ],
   "source": [
    "y = df['PHQ']\n",
    "x = df[['What is your age?','How many Text Messages do you receive in a day?','How many social media and messaging applications do you use?']]\n",
    "print(y)"
   ]
  },
  {
   "cell_type": "code",
   "execution_count": 4,
   "metadata": {},
   "outputs": [],
   "source": [
    "linear_regression = LinearRegression()"
   ]
  },
  {
   "cell_type": "code",
   "execution_count": 5,
   "metadata": {},
   "outputs": [
    {
     "data": {
      "text/plain": [
       "LinearRegression(copy_X=True, fit_intercept=True, n_jobs=None, normalize=False)"
      ]
     },
     "execution_count": 5,
     "metadata": {},
     "output_type": "execute_result"
    }
   ],
   "source": [
    "linear_regression.fit(x,y)"
   ]
  },
  {
   "cell_type": "code",
   "execution_count": 6,
   "metadata": {},
   "outputs": [],
   "source": [
    "y_pred = linear_regression.predict(x)"
   ]
  },
  {
   "cell_type": "code",
   "execution_count": 7,
   "metadata": {},
   "outputs": [
    {
     "data": {
      "text/plain": [
       "array([ 6.96669068,  8.25644317,  2.02062685,  5.57071797, -1.41578092,\n",
       "        6.44830527,  6.9422216 ,  7.10548331,  7.18378436,  6.1029692 ,\n",
       "        7.03596671,  7.03596671,  8.18303593,  5.7832399 ,  7.64425962,\n",
       "        8.28901558,  8.25236499,  6.77922893,  6.82803257,  6.6074888 ,\n",
       "        7.02391971,  6.24045262,  6.83600138,  5.83263464,  7.44837247,\n",
       "        6.4851434 ,  6.94235612,  6.29967198,  4.86489537,  7.5380394 ,\n",
       "        7.71766686,  7.10548331,  6.566707  ,  8.56670689,  5.4199844 ,\n",
       "        7.88908492,  8.64413928,  7.71766686,  6.76318525,  7.72582321,\n",
       "        7.02391971,  6.15056967,  7.15442147,  6.59367601,  7.60347782,\n",
       "        7.5380394 ,  6.5912291 ,  6.78303807,  8.25644317,  7.05718928])"
      ]
     },
     "execution_count": 7,
     "metadata": {},
     "output_type": "execute_result"
    }
   ],
   "source": [
    "y_pred"
   ]
  },
  {
   "cell_type": "code",
   "execution_count": 10,
   "metadata": {},
   "outputs": [
    {
     "name": "stdout",
     "output_type": "stream",
     "text": [
      "[8.25644317]\n"
     ]
    }
   ],
   "source": [
    "x1 = pd.DataFrame()\n",
    "x1['What is your age?'] = [20]\n",
    "x1['How many Text Messages do you receive in a day?'] = [10]\n",
    "x1['How many social media and messaging applications do you use?'] = [5]\n",
    "y_pred = linear_regression.predict(x1)\n",
    "print(y_pred)"
   ]
  }
 ],
 "metadata": {
  "kernelspec": {
   "display_name": "Python 3",
   "language": "python",
   "name": "python3"
  },
  "language_info": {
   "codemirror_mode": {
    "name": "ipython",
    "version": 3
   },
   "file_extension": ".py",
   "mimetype": "text/x-python",
   "name": "python",
   "nbconvert_exporter": "python",
   "pygments_lexer": "ipython3",
   "version": "3.6.10"
  }
 },
 "nbformat": 4,
 "nbformat_minor": 4
}
